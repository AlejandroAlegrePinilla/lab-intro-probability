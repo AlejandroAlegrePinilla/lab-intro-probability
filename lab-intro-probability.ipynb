{
 "cells": [
  {
   "cell_type": "markdown",
   "metadata": {},
   "source": [
    "# Lab | Intro to Probability"
   ]
  },
  {
   "cell_type": "markdown",
   "metadata": {},
   "source": [
    "**Objective**\n",
    "\n",
    "Welcome to this Intro to Probability lab, where we explore decision-making scenarios through the lens of probability and strategic analysis. In the business world, making informed decisions is crucial, especially when faced with uncertainties. This lab focuses on scenarios where probabilistic outcomes play a significant role in shaping strategies and outcomes. Students will engage in exercises that require assessing and choosing optimal paths based on data-driven insights. The goal is to enhance your skills by applying probability concepts to solve real-world problems."
   ]
  },
  {
   "cell_type": "markdown",
   "metadata": {},
   "source": [
    "**Challenge 1**"
   ]
  },
  {
   "cell_type": "markdown",
   "metadata": {},
   "source": [
    "#### Ironhack Airlines \n",
    "\n",
    "Often Airlines sell more tickets than they have seats available, this is called overbooking. Consider the following:\n",
    "- A plane has 450 seats. \n",
    "- Based on historical data we conclude that each individual passenger has a 3% chance of missing it's flight. \n",
    "\n",
    "If the Ironhack Airlines routinely sells 460 tickets, what is the chance that they have a seats for all passenger?"
   ]
  },
  {
   "cell_type": "code",
   "execution_count": 9,
   "metadata": {},
   "outputs": [
    {
     "data": {
      "text/plain": [
       "0.8844772466215431"
      ]
     },
     "execution_count": 9,
     "metadata": {},
     "output_type": "execute_result"
    }
   ],
   "source": [
    "#code here\n",
    "import scipy.stats as stats\n",
    "\n",
    "# Definir parámetros del problema\n",
    "n = 460        # número de boletos vendidos\n",
    "p = 0.97       # probabilidad de que un pasajero se presente\n",
    "seats = 450    # número de asientos disponibles\n",
    "\n",
    "# Distribución binomial: B(n=460, p=0.97)\n",
    "# Calcular la probabilidad acumulada de que el número de pasajeros sea <= 450\n",
    "prob = stats.binom.cdf(seats, n, p)\n",
    "\n",
    "prob"
   ]
  },
  {
   "cell_type": "markdown",
   "metadata": {},
   "source": [
    "**Challenge 2**"
   ]
  },
  {
   "cell_type": "markdown",
   "metadata": {},
   "source": [
    "#### Ironhack Call Center "
   ]
  },
  {
   "cell_type": "markdown",
   "metadata": {},
   "source": [
    "Suppose a customer service representative at a call center is handling customer complaints. Consider the following:\n",
    "- The probability of successfully resolving a customer complaint on the first attempt is 0.3. \n",
    "\n",
    "\n",
    "What is the probability that the representative needs to make at least three attempts before successfully resolving a customer complaint?"
   ]
  },
  {
   "cell_type": "code",
   "execution_count": 10,
   "metadata": {},
   "outputs": [
    {
     "data": {
      "text/plain": [
       "0.48999999999999994"
      ]
     },
     "execution_count": 10,
     "metadata": {},
     "output_type": "execute_result"
    }
   ],
   "source": [
    "#code here\n",
    "# Definir la probabilidad de éxito en cada intento\n",
    "p = 0.3\n",
    "\n",
    "# Calcular la probabilidad de que se necesiten al menos 3 intentos (P(X >= 3))\n",
    "prob_at_least_3_attempts = (1 - p)**2  # (1-p)^(3-1)\n",
    "\n",
    "prob_at_least_3_attempts\n"
   ]
  },
  {
   "cell_type": "markdown",
   "metadata": {},
   "source": [
    "**Challenge 3**"
   ]
  },
  {
   "cell_type": "markdown",
   "metadata": {},
   "source": [
    "#### Ironhack Website"
   ]
  },
  {
   "cell_type": "markdown",
   "metadata": {},
   "source": [
    "Consider a scenario related to Ironhack website traffic. Where:\n",
    "- our website takes on average 500 visits per hour.\n",
    "- the website's server is designed to handle up to 550 vists per hour.\n",
    "\n",
    "\n",
    "What is the probability of the website server being overwhelmed?"
   ]
  },
  {
   "cell_type": "code",
   "execution_count": 11,
   "metadata": {},
   "outputs": [
    {
     "data": {
      "text/plain": [
       "0.01289822084039205"
      ]
     },
     "execution_count": 11,
     "metadata": {},
     "output_type": "execute_result"
    }
   ],
   "source": [
    "#code here\n",
    "# Parámetro de la distribución Poisson (promedio de visitas por hora)\n",
    "lmbda = 500\n",
    "\n",
    "# Calcular la probabilidad acumulada P(X <= 550)\n",
    "prob_less_than_or_equal_550 = stats.poisson.cdf(550, lmbda)\n",
    "\n",
    "# Calcular la probabilidad de que el servidor se vea sobrecargado P(X > 550)\n",
    "prob_overwhelmed = 1 - prob_less_than_or_equal_550\n",
    "\n",
    "prob_overwhelmed\n"
   ]
  },
  {
   "cell_type": "markdown",
   "metadata": {},
   "source": [
    "What is the probability of being overwhelmed at some point during a day? (consider 24hours)"
   ]
  },
  {
   "cell_type": "code",
   "execution_count": 12,
   "metadata": {},
   "outputs": [
    {
     "data": {
      "text/plain": [
       "0.2677043869515715"
      ]
     },
     "execution_count": 12,
     "metadata": {},
     "output_type": "execute_result"
    }
   ],
   "source": [
    "#code here\n",
    "# Calcular la probabilidad de no ser sobrecargado en una hora\n",
    "prob_not_overwhelmed_per_hour = 1 - prob_overwhelmed\n",
    "\n",
    "# Calcular la probabilidad de ser sobrecargado al menos una vez en 24 horas\n",
    "prob_overwhelmed_in_24_hours = 1 - (prob_not_overwhelmed_per_hour ** 24)\n",
    "\n",
    "prob_overwhelmed_in_24_hours\n"
   ]
  },
  {
   "cell_type": "markdown",
   "metadata": {},
   "source": [
    "**Challenge 4**"
   ]
  },
  {
   "cell_type": "markdown",
   "metadata": {},
   "source": [
    "#### Ironhack Helpdesk"
   ]
  },
  {
   "cell_type": "markdown",
   "metadata": {},
   "source": [
    "Consider a scenario related to the time between arrivals of customers at a service desk.\n",
    "\n",
    "On average, a customers arrives every 10minutes.\n",
    "\n",
    "What is the probability that the next customer will arrive within the next 5 minutes?"
   ]
  },
  {
   "cell_type": "code",
   "execution_count": 13,
   "metadata": {},
   "outputs": [
    {
     "data": {
      "text/plain": [
       "0.3934693402873666"
      ]
     },
     "execution_count": 13,
     "metadata": {},
     "output_type": "execute_result"
    }
   ],
   "source": [
    "import math\n",
    "\n",
    "# Parámetros\n",
    "lmbda = 1 / 10  # Tasa de llegada, clientes por minuto\n",
    "t = 5           # Tiempo objetivo en minutos\n",
    "\n",
    "# Calcular la probabilidad de que el cliente llegue en 5 minutos o menos\n",
    "prob_within_5_minutes = 1 - math.exp(-lmbda * t)\n",
    "\n",
    "prob_within_5_minutes\n"
   ]
  },
  {
   "cell_type": "markdown",
   "metadata": {},
   "source": [
    "If there is no customer for 15minutes, employees can that a 5minutes break.\n",
    "\n",
    "What is the probability an employee taking a break?"
   ]
  },
  {
   "cell_type": "code",
   "execution_count": 14,
   "metadata": {},
   "outputs": [
    {
     "data": {
      "text/plain": [
       "0.22313016014842982"
      ]
     },
     "execution_count": 14,
     "metadata": {},
     "output_type": "execute_result"
    }
   ],
   "source": [
    "# Parámetros\n",
    "t_break = 15  # Tiempo sin clientes para tomar un descanso en minutos\n",
    "\n",
    "# Calcular la probabilidad de que no llegue ningún cliente en 15 minutos\n",
    "prob_no_customer_15_minutes = math.exp(-lmbda * t_break)\n",
    "\n",
    "prob_no_customer_15_minutes\n"
   ]
  },
  {
   "cell_type": "markdown",
   "metadata": {},
   "source": [
    "**Challenge 5**"
   ]
  },
  {
   "cell_type": "markdown",
   "metadata": {},
   "source": [
    "The weights of a certain species of birds follow a normal distribution with a mean weight of 150 grams and a standard deviation of 10 grams. \n",
    "\n",
    "- If we randomly select a bird, what is the probability that its weight is between 140 and 160 grams?"
   ]
  },
  {
   "cell_type": "code",
   "execution_count": 15,
   "metadata": {},
   "outputs": [
    {
     "data": {
      "text/plain": [
       "0.6826894921370859"
      ]
     },
     "execution_count": 15,
     "metadata": {},
     "output_type": "execute_result"
    }
   ],
   "source": [
    "#code here\n",
    "# Parámetros de la distribución normal\n",
    "mu = 150  # media en gramos\n",
    "sigma = 10  # desviación estándar en gramos\n",
    "\n",
    "# Limites de peso\n",
    "lower_bound = 140\n",
    "upper_bound = 160\n",
    "\n",
    "# Calcular los puntajes Z para los límites\n",
    "z_lower = (lower_bound - mu) / sigma\n",
    "z_upper = (upper_bound - mu) / sigma\n",
    "\n",
    "# Calcular la probabilidad acumulada entre los dos valores Z usando la función CDF de la normal estándar\n",
    "prob_between = stats.norm.cdf(z_upper) - stats.norm.cdf(z_lower)\n",
    "\n",
    "prob_between\n"
   ]
  },
  {
   "cell_type": "markdown",
   "metadata": {},
   "source": [
    "**Challenge 6**"
   ]
  },
  {
   "cell_type": "markdown",
   "metadata": {},
   "source": [
    "If the lifetime (in hours) of a certain electronic component follows an exponential distribution with a mean lifetime of 50 hours, what is the probability that the component fails within the first 30 hours?"
   ]
  },
  {
   "cell_type": "code",
   "execution_count": 16,
   "metadata": {},
   "outputs": [
    {
     "name": "stdout",
     "output_type": "stream",
     "text": [
      "0.4511883639059735\n"
     ]
    }
   ],
   "source": [
    "#code here\n",
    "# Parámetros\n",
    "mean_lifetime = 50  # vida media en horas\n",
    "lmbda = 1 / mean_lifetime  # tasa de fallo\n",
    "t = 30  # tiempo objetivo en horas\n",
    "\n",
    "# Calcular la probabilidad de que el componente falle en 30 horas o menos\n",
    "prob_failure_within_30_hours = 1 - math.exp(-lmbda * t)\n",
    "\n",
    "print(prob_failure_within_30_hours)"
   ]
  }
 ],
 "metadata": {
  "kernelspec": {
   "display_name": "Python 3",
   "language": "python",
   "name": "python3"
  },
  "language_info": {
   "codemirror_mode": {
    "name": "ipython",
    "version": 3
   },
   "file_extension": ".py",
   "mimetype": "text/x-python",
   "name": "python",
   "nbconvert_exporter": "python",
   "pygments_lexer": "ipython3",
   "version": "3.11.7"
  }
 },
 "nbformat": 4,
 "nbformat_minor": 2
}
